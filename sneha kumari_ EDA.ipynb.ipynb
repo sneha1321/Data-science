{
 "cells": [
  {
   "cell_type": "code",
   "execution_count": 2,
   "id": "28532a2a",
   "metadata": {},
   "outputs": [
    {
     "name": "stdout",
     "output_type": "stream",
     "text": [
      "<class 'pandas.core.frame.DataFrame'>\n",
      "RangeIndex: 200 entries, 0 to 199\n",
      "Data columns (total 4 columns):\n",
      " #   Column        Non-Null Count  Dtype \n",
      "---  ------        --------------  ----- \n",
      " 0   CustomerID    200 non-null    object\n",
      " 1   CustomerName  200 non-null    object\n",
      " 2   Region        200 non-null    object\n",
      " 3   SignupDate    200 non-null    object\n",
      "dtypes: object(4)\n",
      "memory usage: 6.4+ KB\n",
      "None\n",
      "<class 'pandas.core.frame.DataFrame'>\n",
      "RangeIndex: 100 entries, 0 to 99\n",
      "Data columns (total 4 columns):\n",
      " #   Column       Non-Null Count  Dtype  \n",
      "---  ------       --------------  -----  \n",
      " 0   ProductID    100 non-null    object \n",
      " 1   ProductName  100 non-null    object \n",
      " 2   Category     100 non-null    object \n",
      " 3   Price        100 non-null    float64\n",
      "dtypes: float64(1), object(3)\n",
      "memory usage: 3.3+ KB\n",
      "None\n",
      "<class 'pandas.core.frame.DataFrame'>\n",
      "RangeIndex: 1000 entries, 0 to 999\n",
      "Data columns (total 7 columns):\n",
      " #   Column           Non-Null Count  Dtype  \n",
      "---  ------           --------------  -----  \n",
      " 0   TransactionID    1000 non-null   object \n",
      " 1   CustomerID       1000 non-null   object \n",
      " 2   ProductID        1000 non-null   object \n",
      " 3   TransactionDate  1000 non-null   object \n",
      " 4   Quantity         1000 non-null   int64  \n",
      " 5   TotalValue       1000 non-null   float64\n",
      " 6   Price            1000 non-null   float64\n",
      "dtypes: float64(2), int64(1), object(4)\n",
      "memory usage: 54.8+ KB\n",
      "None\n"
     ]
    }
   ],
   "source": [
    "#### TASK 1 EDA and Business Insights\n",
    "import pandas as pd\n",
    "\n",
    "# Load datasets\n",
    "customers = pd.read_csv('Customers 1.csv')\n",
    "products = pd.read_csv('Products 1.csv')\n",
    "transactions = pd.read_csv('Transactions 1.csv')\n",
    "\n",
    "# Display basic info\n",
    "print(customers.info())\n",
    "print(products.info())\n",
    "print(transactions.info())\n"
   ]
  },
  {
   "cell_type": "code",
   "execution_count": 7,
   "id": "45f6129e",
   "metadata": {},
   "outputs": [
    {
     "data": {
      "text/html": [
       "<div>\n",
       "<style scoped>\n",
       "    .dataframe tbody tr th:only-of-type {\n",
       "        vertical-align: middle;\n",
       "    }\n",
       "\n",
       "    .dataframe tbody tr th {\n",
       "        vertical-align: top;\n",
       "    }\n",
       "\n",
       "    .dataframe thead th {\n",
       "        text-align: right;\n",
       "    }\n",
       "</style>\n",
       "<table border=\"1\" class=\"dataframe\">\n",
       "  <thead>\n",
       "    <tr style=\"text-align: right;\">\n",
       "      <th></th>\n",
       "      <th>CustomerID</th>\n",
       "      <th>CustomerName</th>\n",
       "      <th>Region</th>\n",
       "      <th>SignupDate</th>\n",
       "    </tr>\n",
       "  </thead>\n",
       "  <tbody>\n",
       "    <tr>\n",
       "      <th>0</th>\n",
       "      <td>C0001</td>\n",
       "      <td>Lawrence Carroll</td>\n",
       "      <td>South America</td>\n",
       "      <td>2022-07-10</td>\n",
       "    </tr>\n",
       "    <tr>\n",
       "      <th>1</th>\n",
       "      <td>C0002</td>\n",
       "      <td>Elizabeth Lutz</td>\n",
       "      <td>Asia</td>\n",
       "      <td>2022-02-13</td>\n",
       "    </tr>\n",
       "    <tr>\n",
       "      <th>2</th>\n",
       "      <td>C0003</td>\n",
       "      <td>Michael Rivera</td>\n",
       "      <td>South America</td>\n",
       "      <td>2024-03-07</td>\n",
       "    </tr>\n",
       "    <tr>\n",
       "      <th>3</th>\n",
       "      <td>C0004</td>\n",
       "      <td>Kathleen Rodriguez</td>\n",
       "      <td>South America</td>\n",
       "      <td>2022-10-09</td>\n",
       "    </tr>\n",
       "    <tr>\n",
       "      <th>4</th>\n",
       "      <td>C0005</td>\n",
       "      <td>Laura Weber</td>\n",
       "      <td>Asia</td>\n",
       "      <td>2022-08-15</td>\n",
       "    </tr>\n",
       "  </tbody>\n",
       "</table>\n",
       "</div>"
      ],
      "text/plain": [
       "  CustomerID        CustomerName         Region  SignupDate\n",
       "0      C0001    Lawrence Carroll  South America  2022-07-10\n",
       "1      C0002      Elizabeth Lutz           Asia  2022-02-13\n",
       "2      C0003      Michael Rivera  South America  2024-03-07\n",
       "3      C0004  Kathleen Rodriguez  South America  2022-10-09\n",
       "4      C0005         Laura Weber           Asia  2022-08-15"
      ]
     },
     "execution_count": 7,
     "metadata": {},
     "output_type": "execute_result"
    }
   ],
   "source": [
    " customers.head()"
   ]
  },
  {
   "cell_type": "code",
   "execution_count": 8,
   "id": "fe87de2e",
   "metadata": {},
   "outputs": [
    {
     "data": {
      "text/html": [
       "<div>\n",
       "<style scoped>\n",
       "    .dataframe tbody tr th:only-of-type {\n",
       "        vertical-align: middle;\n",
       "    }\n",
       "\n",
       "    .dataframe tbody tr th {\n",
       "        vertical-align: top;\n",
       "    }\n",
       "\n",
       "    .dataframe thead th {\n",
       "        text-align: right;\n",
       "    }\n",
       "</style>\n",
       "<table border=\"1\" class=\"dataframe\">\n",
       "  <thead>\n",
       "    <tr style=\"text-align: right;\">\n",
       "      <th></th>\n",
       "      <th>ProductID</th>\n",
       "      <th>ProductName</th>\n",
       "      <th>Category</th>\n",
       "      <th>Price</th>\n",
       "    </tr>\n",
       "  </thead>\n",
       "  <tbody>\n",
       "    <tr>\n",
       "      <th>0</th>\n",
       "      <td>P001</td>\n",
       "      <td>ActiveWear Biography</td>\n",
       "      <td>Books</td>\n",
       "      <td>169.30</td>\n",
       "    </tr>\n",
       "    <tr>\n",
       "      <th>1</th>\n",
       "      <td>P002</td>\n",
       "      <td>ActiveWear Smartwatch</td>\n",
       "      <td>Electronics</td>\n",
       "      <td>346.30</td>\n",
       "    </tr>\n",
       "    <tr>\n",
       "      <th>2</th>\n",
       "      <td>P003</td>\n",
       "      <td>ComfortLiving Biography</td>\n",
       "      <td>Books</td>\n",
       "      <td>44.12</td>\n",
       "    </tr>\n",
       "    <tr>\n",
       "      <th>3</th>\n",
       "      <td>P004</td>\n",
       "      <td>BookWorld Rug</td>\n",
       "      <td>Home Decor</td>\n",
       "      <td>95.69</td>\n",
       "    </tr>\n",
       "    <tr>\n",
       "      <th>4</th>\n",
       "      <td>P005</td>\n",
       "      <td>TechPro T-Shirt</td>\n",
       "      <td>Clothing</td>\n",
       "      <td>429.31</td>\n",
       "    </tr>\n",
       "  </tbody>\n",
       "</table>\n",
       "</div>"
      ],
      "text/plain": [
       "  ProductID              ProductName     Category   Price\n",
       "0      P001     ActiveWear Biography        Books  169.30\n",
       "1      P002    ActiveWear Smartwatch  Electronics  346.30\n",
       "2      P003  ComfortLiving Biography        Books   44.12\n",
       "3      P004            BookWorld Rug   Home Decor   95.69\n",
       "4      P005          TechPro T-Shirt     Clothing  429.31"
      ]
     },
     "execution_count": 8,
     "metadata": {},
     "output_type": "execute_result"
    }
   ],
   "source": [
    "products.head()"
   ]
  },
  {
   "cell_type": "code",
   "execution_count": 9,
   "id": "cb8aaabe",
   "metadata": {},
   "outputs": [
    {
     "data": {
      "text/html": [
       "<div>\n",
       "<style scoped>\n",
       "    .dataframe tbody tr th:only-of-type {\n",
       "        vertical-align: middle;\n",
       "    }\n",
       "\n",
       "    .dataframe tbody tr th {\n",
       "        vertical-align: top;\n",
       "    }\n",
       "\n",
       "    .dataframe thead th {\n",
       "        text-align: right;\n",
       "    }\n",
       "</style>\n",
       "<table border=\"1\" class=\"dataframe\">\n",
       "  <thead>\n",
       "    <tr style=\"text-align: right;\">\n",
       "      <th></th>\n",
       "      <th>TransactionID</th>\n",
       "      <th>CustomerID</th>\n",
       "      <th>ProductID</th>\n",
       "      <th>TransactionDate</th>\n",
       "      <th>Quantity</th>\n",
       "      <th>TotalValue</th>\n",
       "      <th>Price</th>\n",
       "    </tr>\n",
       "  </thead>\n",
       "  <tbody>\n",
       "    <tr>\n",
       "      <th>0</th>\n",
       "      <td>T00001</td>\n",
       "      <td>C0199</td>\n",
       "      <td>P067</td>\n",
       "      <td>2024-08-25 12:38:23</td>\n",
       "      <td>1</td>\n",
       "      <td>300.68</td>\n",
       "      <td>300.68</td>\n",
       "    </tr>\n",
       "    <tr>\n",
       "      <th>1</th>\n",
       "      <td>T00112</td>\n",
       "      <td>C0146</td>\n",
       "      <td>P067</td>\n",
       "      <td>2024-05-27 22:23:54</td>\n",
       "      <td>1</td>\n",
       "      <td>300.68</td>\n",
       "      <td>300.68</td>\n",
       "    </tr>\n",
       "    <tr>\n",
       "      <th>2</th>\n",
       "      <td>T00166</td>\n",
       "      <td>C0127</td>\n",
       "      <td>P067</td>\n",
       "      <td>2024-04-25 07:38:55</td>\n",
       "      <td>1</td>\n",
       "      <td>300.68</td>\n",
       "      <td>300.68</td>\n",
       "    </tr>\n",
       "    <tr>\n",
       "      <th>3</th>\n",
       "      <td>T00272</td>\n",
       "      <td>C0087</td>\n",
       "      <td>P067</td>\n",
       "      <td>2024-03-26 22:55:37</td>\n",
       "      <td>2</td>\n",
       "      <td>601.36</td>\n",
       "      <td>300.68</td>\n",
       "    </tr>\n",
       "    <tr>\n",
       "      <th>4</th>\n",
       "      <td>T00363</td>\n",
       "      <td>C0070</td>\n",
       "      <td>P067</td>\n",
       "      <td>2024-03-21 15:10:10</td>\n",
       "      <td>3</td>\n",
       "      <td>902.04</td>\n",
       "      <td>300.68</td>\n",
       "    </tr>\n",
       "  </tbody>\n",
       "</table>\n",
       "</div>"
      ],
      "text/plain": [
       "  TransactionID CustomerID ProductID      TransactionDate  Quantity  \\\n",
       "0        T00001      C0199      P067  2024-08-25 12:38:23         1   \n",
       "1        T00112      C0146      P067  2024-05-27 22:23:54         1   \n",
       "2        T00166      C0127      P067  2024-04-25 07:38:55         1   \n",
       "3        T00272      C0087      P067  2024-03-26 22:55:37         2   \n",
       "4        T00363      C0070      P067  2024-03-21 15:10:10         3   \n",
       "\n",
       "   TotalValue   Price  \n",
       "0      300.68  300.68  \n",
       "1      300.68  300.68  \n",
       "2      300.68  300.68  \n",
       "3      601.36  300.68  \n",
       "4      902.04  300.68  "
      ]
     },
     "execution_count": 9,
     "metadata": {},
     "output_type": "execute_result"
    }
   ],
   "source": [
    "transactions.head()"
   ]
  },
  {
   "cell_type": "code",
   "execution_count": 10,
   "id": "c16dbc1f",
   "metadata": {},
   "outputs": [
    {
     "name": "stdout",
     "output_type": "stream",
     "text": [
      "CustomerID      0\n",
      "CustomerName    0\n",
      "Region          0\n",
      "SignupDate      0\n",
      "dtype: int64\n",
      "ProductID      0\n",
      "ProductName    0\n",
      "Category       0\n",
      "Price          0\n",
      "dtype: int64\n",
      "TransactionID      0\n",
      "CustomerID         0\n",
      "ProductID          0\n",
      "TransactionDate    0\n",
      "Quantity           0\n",
      "TotalValue         0\n",
      "Price              0\n",
      "dtype: int64\n"
     ]
    }
   ],
   "source": [
    "print(customers.isnull().sum())\n",
    "print(products.isnull().sum())\n",
    "print(transactions.isnull().sum())\n"
   ]
  },
  {
   "cell_type": "code",
   "execution_count": 11,
   "id": "7fe6af17",
   "metadata": {},
   "outputs": [],
   "source": [
    "transactions['TransactionDate'] = pd.to_datetime(transactions['TransactionDate'])\n",
    "customers['SignupDate'] = pd.to_datetime(customers['SignupDate'])\n"
   ]
  },
  {
   "cell_type": "code",
   "execution_count": 12,
   "id": "6d625970",
   "metadata": {},
   "outputs": [
    {
     "data": {
      "image/png": "[encoded data removed]",
      "text/plain": [
       "<Figure size 640x480 with 1 Axes>"
      ]
     },
     "metadata": {},
     "output_type": "display_data"
    }
   ],
   "source": [
    "import seaborn as sns\n",
    "import matplotlib.pyplot as plt\n",
    "\n",
    "region_counts = customers['Region'].value_counts()\n",
    "sns.barplot(x=region_counts.index, y=region_counts.values)\n",
    "plt.title('Customers by Region')\n",
    "plt.show()"
   ]
  },
  {
   "cell_type": "code",
   "execution_count": 13,
   "id": "a81ba4ae",
   "metadata": {},
   "outputs": [
    {
     "name": "stdout",
     "output_type": "stream",
     "text": [
      "ProductID\n",
      "P059    46\n",
      "P054    46\n",
      "P029    45\n",
      "P079    43\n",
      "P061    43\n",
      "Name: Quantity, dtype: int64\n"
     ]
    }
   ],
   "source": [
    "top_products = transactions.groupby('ProductID')['Quantity'].sum().sort_values(ascending=False)\n",
    "print(top_products.head())\n"
   ]
  },
  {
   "cell_type": "code",
   "execution_count": 14,
   "id": "b07375c2",
   "metadata": {},
   "outputs": [
    {
     "name": "stdout",
     "output_type": "stream",
     "text": [
      "Category\n",
      "Books          192147.47\n",
      "Clothing       166170.66\n",
      "Electronics    180783.50\n",
      "Home Decor     150893.93\n",
      "Name: TotalValue, dtype: float64\n"
     ]
    }
   ],
   "source": [
    "merged_data = pd.merge(transactions, products, on='ProductID')\n",
    "category_revenue = merged_data.groupby('Category')['TotalValue'].sum()\n",
    "print(category_revenue)\n"
   ]
  },
  {
   "cell_type": "code",
   "execution_count": 15,
   "id": "08be6807",
   "metadata": {
    "scrolled": true
   },
   "outputs": [
    {
     "data": {
      "image/png": "[encoded data removed]",
      "text/plain": [
       "<Figure size 640x480 with 1 Axes>"
      ]
     },
     "metadata": {},
     "output_type": "display_data"
    }
   ],
   "source": [
    "transactions.groupby(transactions['TransactionDate'].dt.month)['TotalValue'].sum().plot()\n",
    "plt.title('Monthly Revenue Trend')\n",
    "plt.show()\n"
   ]
  },
  {
   "cell_type": "code",
   "execution_count": 16,
   "id": "c0460d2b",
   "metadata": {},
   "outputs": [],
   "source": [
    "###TASK 2 - LOOKALIKE MODEL"
   ]
  },
  {
   "cell_type": "code",
   "execution_count": 17,
   "id": "1810f8d4",
   "metadata": {},
   "outputs": [],
   "source": [
    "#AGGREGATE CUSTOMER DATA\n",
    "\n",
    "customer_summary = transactions.groupby('CustomerID').agg({\n",
    "    'TotalValue': 'sum',\n",
    "    'Quantity': 'sum'\n",
    "}).reset_index()\n"
   ]
  },
  {
   "cell_type": "code",
   "execution_count": 18,
   "id": "5eed99be",
   "metadata": {},
   "outputs": [],
   "source": [
    "#NORMALIZE DATA\n",
    "\n",
    "from sklearn.preprocessing import MinMaxScaler\n",
    "\n",
    "scaler = MinMaxScaler()\n",
    "customer_summary[['TotalValue', 'Quantity']] = scaler.fit_transform(customer_summary[['TotalValue', 'Quantity']])\n"
   ]
  },
  {
   "cell_type": "code",
   "execution_count": 19,
   "id": "fd8d3eda",
   "metadata": {},
   "outputs": [],
   "source": [
    "from sklearn.neighbors import NearestNeighbors\n",
    "\n",
    "knn = NearestNeighbors(n_neighbors=4, metric='cosine')  # Include the customer itself\n",
    "knn.fit(customer_summary[['TotalValue', 'Quantity']])\n",
    "distances, indices = knn.kneighbors(customer_summary[['TotalValue', 'Quantity']])\n"
   ]
  },
  {
   "cell_type": "code",
   "execution_count": 20,
   "id": "aa0a62f2",
   "metadata": {},
   "outputs": [
    {
     "name": "stdout",
     "output_type": "stream",
     "text": [
      "{'C0001': [('C0057', 3.944523535581723e-07), ('C0143', 5.744243114502723e-07), ('C0120', 1.3500500171126362e-06)], 'C0002': [('C0157', 5.274149680656315e-06), ('C0003', 7.138534665274143e-05), ('C0176', 0.00010386329957123852)], 'C0003': [('C0176', 3.035912783277972e-06), ('C0030', 1.2292771276456449e-05), ('C0157', 3.785280219281706e-05)], 'C0004': [('C0106', 4.834338225956358e-06), ('C0199', 1.2549669865857815e-05), ('C0098', 1.829692790877857e-05)], 'C0005': [('C0137', 1.0216807200258415e-07), ('C0104', 2.6772525263396574e-07), ('C0092', 4.834096557493339e-07)], 'C0006': [('C0100', 2.5311125266824774e-06), ('C0079', 4.120562365650393e-06), ('C0051', 4.875237475499006e-06)], 'C0007': [('C0146', 1.6336120967075374e-06), ('C0015', 2.476769899617537e-06), ('C0117', 3.6646287600028415e-06)], 'C0008': [('C0147', 7.829241699397471e-10), ('C0073', 1.0155154396285226e-06), ('C0071', 1.17720212478023e-06)], 'C0009': [('C0141', 6.395137741588286e-08), ('C0061', 1.2214053733194952e-05), ('C0089', 1.9789219960264504e-05)], 'C0010': [('C0032', 2.9961933823985376e-06), ('C0049', 0.00025470373254066203), ('C0091', 0.0004354603604010965)], 'C0011': [('C0177', 3.879562122666158e-07), ('C0102', 2.8961336008270777e-06), ('C0182', 6.305756077851221e-06)], 'C0012': [('C0110', 5.379606201616483e-07), ('C0192', 4.364919803490075e-06), ('C0159', 4.594132651747351e-06)], 'C0013': [('C0059', 2.060455739805178e-06), ('C0170', 3.156080829680441e-06), ('C0054', 4.698602599773061e-06)], 'C0014': [('C0098', 1.6382303902329198e-07), ('C0199', 1.2988996989093948e-06), ('C0172', 1.3136296952431792e-06)], 'C0015': [('C0117', 1.1597197591139974e-07), ('C0007', 2.476769899617537e-06), ('C0146', 8.133348471606183e-06)], 'C0016': [('C0020', 1.1700044403317733e-06), ('C0085', 2.7435667550035348e-06), ('C0074', 7.511613458466293e-06)], 'C0017': [('C0181', 2.3231165036108337e-07), ('C0169', 9.400080073218575e-07), ('C0047', 2.9935670626812794e-06)], 'C0018': [('C0070', 6.738038405007529e-08), ('C0041', 6.597079926784488e-07), ('C0179', 5.033060460957195e-06)], 'C0019': [('C0136', 5.302199574952482e-07), ('C0043', 6.922721703661594e-07), ('C0075', 2.333111376473518e-05)], 'C0020': [('C0085', 3.302851305786447e-07), ('C0016', 1.1700044403317733e-06), ('C0185', 3.5537037452737508e-06)]}\n"
     ]
    }
   ],
   "source": [
    "lookalikes = {}\n",
    "for i, customer_id in enumerate(customer_summary['CustomerID'][:20]):\n",
    "    similar_customers = [(customer_summary['CustomerID'][indices[i][j]], distances[i][j]) for j in range(1, 4)]\n",
    "    lookalikes[customer_id] = similar_customers\n",
    "\n",
    "print(lookalikes)\n"
   ]
  },
  {
   "cell_type": "code",
   "execution_count": 21,
   "id": "24410e7c",
   "metadata": {},
   "outputs": [],
   "source": [
    "import csv\n",
    "\n",
    "with open('Lookalike.csv', 'w') as f:\n",
    "    writer = csv.writer(f)\n",
    "    writer.writerow(['CustomerID', 'LookalikeCustomers'])\n",
    "    for key, value in lookalikes.items():\n",
    "        writer.writerow([key, value])\n"
   ]
  },
  {
   "cell_type": "code",
   "execution_count": 22,
   "id": "63b33d32",
   "metadata": {},
   "outputs": [],
   "source": [
    "### TASK 3 - CUSTOMER SEGMENTATION"
   ]
  },
  {
   "cell_type": "code",
   "execution_count": 34,
   "id": "f942650e",
   "metadata": {},
   "outputs": [],
   "source": [
    "customer_data = pd.merge(customers, customer_summary, on='CustomerID')"
   ]
  },
  {
   "cell_type": "code",
   "execution_count": 30,
   "id": "ee71ef06",
   "metadata": {},
   "outputs": [],
   "source": [
    "import os\n",
    "os.environ[\"OMP_NUM_THREADS\"] = \"1\""
   ]
  },
  {
   "cell_type": "code",
   "execution_count": 32,
   "id": "3dfeeb03",
   "metadata": {},
   "outputs": [
    {
     "name": "stderr",
     "output_type": "stream",
     "text": [
      "C:\\ProgramData\\anaconda3\\Lib\\site-packages\\sklearn\\cluster\\_kmeans.py:1902: UserWarning: MiniBatchKMeans is known to have a memory leak on Windows with MKL, when there are less chunks than available threads. You can prevent it by setting batch_size >= 3072 or by setting the environment variable OMP_NUM_THREADS=1\n",
      "  warnings.warn(\n"
     ]
    }
   ],
   "source": [
    "#RUN KMEANS CLUSTRING\n",
    "\n",
    "from sklearn.cluster import MiniBatchKMeans\n",
    "\n",
    "kmeans = MiniBatchKMeans(n_clusters=4, random_state=42, n_init=10)\n",
    "customer_data['Cluster'] = kmeans.fit_predict(customer_data[['TotalValue', 'Quantity']])\n",
    "\n",
    "\n"
   ]
  },
  {
   "cell_type": "code",
   "execution_count": 33,
   "id": "330e83ca",
   "metadata": {},
   "outputs": [],
   "source": [
    "import warnings\n",
    "warnings.filterwarnings(\"ignore\", message=\"KMeans is known to have a memory leak\")\n"
   ]
  },
  {
   "cell_type": "code",
   "execution_count": 25,
   "id": "dcff1e0e",
   "metadata": {},
   "outputs": [
    {
     "name": "stdout",
     "output_type": "stream",
     "text": [
      "DB Index: 0.725543863431002\n"
     ]
    }
   ],
   "source": [
    "#CALCULATE DB INDEX\n",
    "\n",
    "from sklearn.metrics import davies_bouldin_score\n",
    "\n",
    "db_index = davies_bouldin_score(customer_data[['TotalValue', 'Quantity']], customer_data['Cluster'])\n",
    "print(f'DB Index: {db_index}')\n"
   ]
  },
  {
   "cell_type": "code",
   "execution_count": 26,
   "id": "2334d56e",
   "metadata": {},
   "outputs": [
    {
     "data": {
      "image/png": "[encoded data removed]",
      "text/plain": [
       "<Figure size 640x480 with 1 Axes>"
      ]
     },
     "metadata": {},
     "output_type": "display_data"
    }
   ],
   "source": [
    "#VISUALIZE CLUSTERS\n",
    "\n",
    "sns.scatterplot(x='TotalValue', y='Quantity', hue='Cluster', data=customer_data, palette='Set1')\n",
    "plt.title('Customer Clusters')\n",
    "plt.show()\n"
   ]
  },
  {
   "cell_type": "code",
   "execution_count": null,
   "id": "88864aec",
   "metadata": {},
   "outputs": [],
   "source": []
  }
 ],
 "metadata": {
  "kernelspec": {
   "display_name": "Python 3 (ipykernel)",
   "language": "python",
   "name": "python3"
  },
  "language_info": {
   "codemirror_mode": {
    "name": "ipython",
    "version": 3
   },
   "file_extension": ".py",
   "mimetype": "text/x-python",
   "name": "python",
   "nbconvert_exporter": "python",
   "pygments_lexer": "ipython3",
   "version": "3.11.3"
  }
 },
 "nbformat": 4,
 "nbformat_minor": 5
}
